{
 "cells": [
  {
   "cell_type": "markdown",
   "metadata": {},
   "source": [
    "## FSL based image alignment"
   ]
  },
  {
   "cell_type": "code",
   "execution_count": 1,
   "metadata": {},
   "outputs": [],
   "source": [
    "module load singularity"
   ]
  },
  {
   "cell_type": "code",
   "execution_count": 2,
   "metadata": {},
   "outputs": [
    {
     "name": "stdout",
     "output_type": "stream",
     "text": [
      "Params: 0.0257529 : 2.30612 : 0\n",
      "Tolerances: 0.004 : 0.16 : 0.16\n",
      "Params: 0.00579553 : 2.68495 : 0.0306665\n",
      "Tolerances: 0.004 : 0.16 : 0.16\n",
      "Params: -0.000319336 : 2.77448 : 0.0199027\n",
      "Tolerances: 0.0005 : 0.02 : 0.02\n"
     ]
    }
   ],
   "source": [
    "singularity run --bind $PWD/data:/tmp /xdisk/chidiugonna/singularity-images/nklab-neuro-tools.simg mcflirt -in /tmp/images_to_be_aligned -plots"
   ]
  },
  {
   "cell_type": "code",
   "execution_count": null,
   "metadata": {},
   "outputs": [],
   "source": []
  }
 ],
 "metadata": {
  "kernelspec": {
   "display_name": "Bash",
   "language": "bash",
   "name": "bash"
  },
  "language_info": {
   "codemirror_mode": "shell",
   "file_extension": ".sh",
   "mimetype": "text/x-sh",
   "name": "bash"
  }
 },
 "nbformat": 4,
 "nbformat_minor": 2
}
